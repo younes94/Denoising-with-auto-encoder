{
 "cells": [
  {
   "cell_type": "markdown",
   "metadata": {},
   "source": [
    "#### Auteur = @Younes_Chouiyakhe\n",
    "## Importation des bibliothèques\n"
   ]
  },
  {
   "cell_type": "code",
   "execution_count": 1,
   "metadata": {},
   "outputs": [],
   "source": [
    "from tensorflow.keras.datasets import mnist\n",
    "from tensorflow.keras.layers import Conv2D, MaxPooling2D, UpSampling2D, Flatten, Dense, GaussianNoise\n",
    "from tensorflow.keras.models import Sequential\n",
    "from tensorflow.keras import Input, Model\n",
    "import numpy as np\n",
    "import matplotlib.pyplot as plt\n",
    "\n"
   ]
  },
  {
   "cell_type": "markdown",
   "metadata": {},
   "source": [
    "## 1) Récupérez le dataset MNIST et séparez le en train / test\n"
   ]
  },
  {
   "cell_type": "code",
   "execution_count": 2,
   "metadata": {},
   "outputs": [],
   "source": [
    "(x_train, y_train), (x_test, y_test) = mnist.load_data()\n",
    "x_train = x_train.astype('float32') / 255.\n",
    "x_test = x_test.astype('float32') / 255.\n",
    "x_train = np.reshape(x_train, (len(x_train), 28, 28, 1))\n",
    "x_test = np.reshape(x_test, (len(x_test), 28, 28, 1))\n"
   ]
  },
  {
   "cell_type": "markdown",
   "metadata": {},
   "source": [
    "## 2) Créez un simple autoencoder convolutifs (CAE) ainsi qu’un CNN\n",
    "### Création d'Autoencoder"
   ]
  },
  {
   "cell_type": "code",
   "execution_count": 3,
   "metadata": {},
   "outputs": [
    {
     "name": "stdout",
     "output_type": "stream",
     "text": [
      "Model: \"model\"\n",
      "_________________________________________________________________\n",
      "Layer (type)                 Output Shape              Param #   \n",
      "=================================================================\n",
      "input_1 (InputLayer)         [(None, 28, 28, 1)]       0         \n",
      "_________________________________________________________________\n",
      "conv2d (Conv2D)              (None, 28, 28, 32)        320       \n",
      "_________________________________________________________________\n",
      "max_pooling2d (MaxPooling2D) (None, 14, 14, 32)        0         \n",
      "_________________________________________________________________\n",
      "conv2d_1 (Conv2D)            (None, 14, 14, 8)         2312      \n",
      "_________________________________________________________________\n",
      "max_pooling2d_1 (MaxPooling2 (None, 7, 7, 8)           0         \n",
      "_________________________________________________________________\n",
      "conv2d_2 (Conv2D)            (None, 7, 7, 8)           584       \n",
      "_________________________________________________________________\n",
      "max_pooling2d_2 (MaxPooling2 (None, 4, 4, 8)           0         \n",
      "_________________________________________________________________\n",
      "conv2d_3 (Conv2D)            (None, 4, 4, 8)           584       \n",
      "_________________________________________________________________\n",
      "up_sampling2d (UpSampling2D) (None, 8, 8, 8)           0         \n",
      "_________________________________________________________________\n",
      "conv2d_4 (Conv2D)            (None, 8, 8, 8)           584       \n",
      "_________________________________________________________________\n",
      "up_sampling2d_1 (UpSampling2 (None, 16, 16, 8)         0         \n",
      "_________________________________________________________________\n",
      "conv2d_5 (Conv2D)            (None, 14, 14, 32)        2336      \n",
      "_________________________________________________________________\n",
      "up_sampling2d_2 (UpSampling2 (None, 28, 28, 32)        0         \n",
      "_________________________________________________________________\n",
      "conv2d_6 (Conv2D)            (None, 28, 28, 1)         289       \n",
      "=================================================================\n",
      "Total params: 7,009\n",
      "Trainable params: 7,009\n",
      "Non-trainable params: 0\n",
      "_________________________________________________________________\n"
     ]
    }
   ],
   "source": [
    "input_img = Input(shape=(28, 28, 1))\n",
    "\n",
    "x = Conv2D(32, (3, 3), activation='relu', padding='same')(input_img)\n",
    "x = MaxPooling2D((2, 2), padding='same')(x)\n",
    "x = Conv2D(8, (3, 3), activation='relu', padding='same')(x)\n",
    "x = MaxPooling2D((2, 2), padding='same')(x)\n",
    "x = Conv2D(8, (3, 3), activation='relu', padding='same')(x)\n",
    "encoded = MaxPooling2D((2, 2), padding='same')(x)\n",
    "\n",
    "# at this point the representation is (4, 4, 8) i.e. 128-dimensional\n",
    "\n",
    "x = Conv2D(8, (3, 3), activation='relu', padding='same')(encoded)\n",
    "x = UpSampling2D((2, 2))(x)\n",
    "x = Conv2D(8, (3, 3), activation='relu', padding='same')(x)\n",
    "x = UpSampling2D((2, 2))(x)\n",
    "x = Conv2D(32, (3, 3), activation='relu')(x)\n",
    "x = UpSampling2D((2, 2))(x)\n",
    "decoded = Conv2D(1, (3, 3), activation='sigmoid', padding='same')(x)\n",
    "\n",
    "autoencoder = Model(input_img, decoded)\n",
    "autoencoder.compile(optimizer='adam', loss='binary_crossentropy')\n",
    "autoencoder.summary()"
   ]
  },
  {
   "cell_type": "markdown",
   "metadata": {},
   "source": [
    "### Fit Autoencoder\n"
   ]
  },
  {
   "cell_type": "code",
   "execution_count": 4,
   "metadata": {},
   "outputs": [
    {
     "name": "stdout",
     "output_type": "stream",
     "text": [
      "Epoch 1/30\n",
      "235/235 [==============================] - 74s 314ms/step - loss: 0.3504 - val_loss: 0.1594\n",
      "Epoch 2/30\n",
      "235/235 [==============================] - 124s 528ms/step - loss: 0.1528 - val_loss: 0.1363\n",
      "Epoch 3/30\n",
      "235/235 [==============================] - 137s 585ms/step - loss: 0.1344 - val_loss: 0.1251\n",
      "Epoch 4/30\n",
      "235/235 [==============================] - 144s 615ms/step - loss: 0.1244 - val_loss: 0.1188\n",
      "Epoch 5/30\n",
      "235/235 [==============================] - 161s 686ms/step - loss: 0.1190 - val_loss: 0.1148\n",
      "Epoch 6/30\n",
      "235/235 [==============================] - 163s 692ms/step - loss: 0.1150 - val_loss: 0.1119\n",
      "Epoch 7/30\n",
      "235/235 [==============================] - 158s 673ms/step - loss: 0.1127 - val_loss: 0.1097\n",
      "Epoch 8/30\n",
      "235/235 [==============================] - 154s 658ms/step - loss: 0.1102 - val_loss: 0.1078\n",
      "Epoch 9/30\n",
      "235/235 [==============================] - 124s 527ms/step - loss: 0.1084 - val_loss: 0.1063\n",
      "Epoch 10/30\n",
      "235/235 [==============================] - 126s 535ms/step - loss: 0.1072 - val_loss: 0.1049\n",
      "Epoch 11/30\n",
      "235/235 [==============================] - 125s 530ms/step - loss: 0.1058 - val_loss: 0.1041\n",
      "Epoch 12/30\n",
      "235/235 [==============================] - 147s 625ms/step - loss: 0.1046 - val_loss: 0.1038\n",
      "Epoch 13/30\n",
      "235/235 [==============================] - 157s 668ms/step - loss: 0.1040 - val_loss: 0.1017\n",
      "Epoch 14/30\n",
      "235/235 [==============================] - 156s 664ms/step - loss: 0.1028 - val_loss: 0.1011\n",
      "Epoch 15/30\n",
      "235/235 [==============================] - 679s 3s/step - loss: 0.1020 - val_loss: 0.1001\n",
      "Epoch 16/30\n",
      "235/235 [==============================] - 134s 571ms/step - loss: 0.1010 - val_loss: 0.0992\n",
      "Epoch 17/30\n",
      "235/235 [==============================] - 132s 560ms/step - loss: 0.1005 - val_loss: 0.0989\n",
      "Epoch 18/30\n",
      "235/235 [==============================] - 134s 570ms/step - loss: 0.0994 - val_loss: 0.0988\n",
      "Epoch 19/30\n",
      "235/235 [==============================] - 163s 694ms/step - loss: 0.0991 - val_loss: 0.0975\n",
      "Epoch 20/30\n",
      "235/235 [==============================] - 171s 729ms/step - loss: 0.0987 - val_loss: 0.0972\n",
      "Epoch 21/30\n",
      "235/235 [==============================] - 172s 732ms/step - loss: 0.0982 - val_loss: 0.0965\n",
      "Epoch 22/30\n",
      "235/235 [==============================] - 172s 733ms/step - loss: 0.0976 - val_loss: 0.0963\n",
      "Epoch 23/30\n",
      "235/235 [==============================] - 172s 731ms/step - loss: 0.0974 - val_loss: 0.0961\n",
      "Epoch 24/30\n",
      "235/235 [==============================] - 172s 731ms/step - loss: 0.0970 - val_loss: 0.0954\n",
      "Epoch 25/30\n",
      "235/235 [==============================] - 171s 729ms/step - loss: 0.0965 - val_loss: 0.0951\n",
      "Epoch 26/30\n",
      "235/235 [==============================] - 172s 730ms/step - loss: 0.0962 - val_loss: 0.0950\n",
      "Epoch 27/30\n",
      "235/235 [==============================] - 172s 730ms/step - loss: 0.0958 - val_loss: 0.0945\n",
      "Epoch 28/30\n",
      "235/235 [==============================] - 180s 768ms/step - loss: 0.0957 - val_loss: 0.0947\n",
      "Epoch 29/30\n",
      "235/235 [==============================] - 174s 741ms/step - loss: 0.0954 - val_loss: 0.0939\n",
      "Epoch 30/30\n",
      "235/235 [==============================] - 174s 742ms/step - loss: 0.0951 - val_loss: 0.0939\n"
     ]
    },
    {
     "data": {
      "text/plain": [
       "<tensorflow.python.keras.callbacks.History at 0x2086b095c88>"
      ]
     },
     "execution_count": 4,
     "metadata": {},
     "output_type": "execute_result"
    }
   ],
   "source": [
    "autoencoder.fit(x_train, x_train, \n",
    "          epochs=30,\n",
    "          batch_size=256,\n",
    "          shuffle=True,\n",
    "         validation_data=(x_test, x_test))\n"
   ]
  },
  {
   "cell_type": "markdown",
   "metadata": {},
   "source": [
    "#### La rangée du haut correspond aux chiffres d'origine et la rangée du bas aux chiffres reconstruits avec Autoencoder.\n",
    "##### Comme illustrer dans la figure avec Autoencoder on perd pas mal d'informations."
   ]
  },
  {
   "cell_type": "code",
   "execution_count": 5,
   "metadata": {},
   "outputs": [
    {
     "data": {
      "image/png": "[encoded data removed]",
      "text/plain": [
       "<Figure size 2880x288 with 20 Axes>"
      ]
     },
     "metadata": {
      "needs_background": "light"
     },
     "output_type": "display_data"
    }
   ],
   "source": [
    "auto_enco_images = autoencoder.predict(x_test)\n",
    "\n",
    "plt.figure(figsize=(40, 4))\n",
    "for i in range(10):\n",
    "    # display original\n",
    "    ax = plt.subplot(3, 20, i + 1)\n",
    "    plt.imshow(x_test[i].reshape(28, 28), cmap=\"binary\")\n",
    "    \n",
    "    # display reconstructed (after noise removed) image\n",
    "    ax = plt.subplot(3, 20, 40 +i+ 1)\n",
    "    plt.imshow(auto_enco_images[i].reshape(28, 28), cmap=\"binary\")\n",
    "\n",
    "plt.show()"
   ]
  },
  {
   "cell_type": "markdown",
   "metadata": {},
   "source": [
    "### Création de CNN"
   ]
  },
  {
   "cell_type": "code",
   "execution_count": 6,
   "metadata": {},
   "outputs": [],
   "source": [
    "CNN = Sequential()\n",
    "CNN.add(Conv2D(32, (3, 3), activation='relu', padding='same', input_shape=(28, 28, 1)))\n",
    "CNN.add(MaxPooling2D((2, 2), padding='same'))\n",
    "CNN.add(Conv2D(8, (3, 3), activation='relu', padding='same'))\n",
    "CNN.add(MaxPooling2D((2, 2), padding='same'))\n",
    "CNN.add(Conv2D(8, (3, 3), activation='relu', padding='same'))\n",
    " \n",
    "\n",
    "CNN.add(MaxPooling2D((2, 2), padding='same'))\n",
    "CNN.add(Flatten())\n",
    "CNN.add(Dense(10, activation=\"softmax\"))\n"
   ]
  },
  {
   "cell_type": "code",
   "execution_count": 7,
   "metadata": {},
   "outputs": [
    {
     "name": "stdout",
     "output_type": "stream",
     "text": [
      "Model: \"sequential\"\n",
      "_________________________________________________________________\n",
      "Layer (type)                 Output Shape              Param #   \n",
      "=================================================================\n",
      "conv2d_7 (Conv2D)            (None, 28, 28, 32)        320       \n",
      "_________________________________________________________________\n",
      "max_pooling2d_3 (MaxPooling2 (None, 14, 14, 32)        0         \n",
      "_________________________________________________________________\n",
      "conv2d_8 (Conv2D)            (None, 14, 14, 8)         2312      \n",
      "_________________________________________________________________\n",
      "max_pooling2d_4 (MaxPooling2 (None, 7, 7, 8)           0         \n",
      "_________________________________________________________________\n",
      "conv2d_9 (Conv2D)            (None, 7, 7, 8)           584       \n",
      "_________________________________________________________________\n",
      "max_pooling2d_5 (MaxPooling2 (None, 4, 4, 8)           0         \n",
      "_________________________________________________________________\n",
      "flatten (Flatten)            (None, 128)               0         \n",
      "_________________________________________________________________\n",
      "dense (Dense)                (None, 10)                1290      \n",
      "=================================================================\n",
      "Total params: 4,506\n",
      "Trainable params: 4,506\n",
      "Non-trainable params: 0\n",
      "_________________________________________________________________\n"
     ]
    }
   ],
   "source": [
    "CNN.summary()\n",
    "CNN.compile(optimizer=\"adam\",\n",
    "                loss=\"sparse_categorical_crossentropy\",\n",
    "                metrics=[\"accuracy\"])\n",
    "\n"
   ]
  },
  {
   "cell_type": "markdown",
   "metadata": {},
   "source": [
    "### Fit CNN"
   ]
  },
  {
   "cell_type": "code",
   "execution_count": 8,
   "metadata": {},
   "outputs": [
    {
     "name": "stdout",
     "output_type": "stream",
     "text": [
      "Epoch 1/10\n",
      "235/235 [==============================] - 42s 174ms/step - loss: 1.3961 - accuracy: 0.5644 - val_loss: 0.2133 - val_accuracy: 0.9343\n",
      "Epoch 2/10\n",
      "235/235 [==============================] - 57s 243ms/step - loss: 0.2095 - accuracy: 0.9351 - val_loss: 0.1378 - val_accuracy: 0.9571\n",
      "Epoch 3/10\n",
      "235/235 [==============================] - 59s 253ms/step - loss: 0.1388 - accuracy: 0.9586 - val_loss: 0.1014 - val_accuracy: 0.9686\n",
      "Epoch 4/10\n",
      "235/235 [==============================] - 58s 245ms/step - loss: 0.1083 - accuracy: 0.9660 - val_loss: 0.0920 - val_accuracy: 0.9719\n",
      "Epoch 5/10\n",
      "235/235 [==============================] - 58s 247ms/step - loss: 0.0915 - accuracy: 0.9717 - val_loss: 0.0827 - val_accuracy: 0.9749\n",
      "Epoch 6/10\n",
      "235/235 [==============================] - 58s 246ms/step - loss: 0.0897 - accuracy: 0.9720 - val_loss: 0.0676 - val_accuracy: 0.9780\n",
      "Epoch 7/10\n",
      "235/235 [==============================] - 59s 250ms/step - loss: 0.0769 - accuracy: 0.9765 - val_loss: 0.0679 - val_accuracy: 0.9782\n",
      "Epoch 8/10\n",
      "235/235 [==============================] - 59s 252ms/step - loss: 0.0728 - accuracy: 0.9781 - val_loss: 0.0647 - val_accuracy: 0.9797\n",
      "Epoch 9/10\n",
      "235/235 [==============================] - 60s 256ms/step - loss: 0.0602 - accuracy: 0.9810 - val_loss: 0.0565 - val_accuracy: 0.9801\n",
      "Epoch 10/10\n",
      "235/235 [==============================] - 61s 260ms/step - loss: 0.0614 - accuracy: 0.9805 - val_loss: 0.0613 - val_accuracy: 0.9805\n"
     ]
    },
    {
     "data": {
      "text/plain": [
       "<tensorflow.python.keras.callbacks.History at 0x2086e21f5c8>"
      ]
     },
     "execution_count": 8,
     "metadata": {},
     "output_type": "execute_result"
    }
   ],
   "source": [
    "CNN.fit(x_train, y_train, \n",
    "        epochs=10,\n",
    "        batch_size=256,\n",
    "         validation_data=(x_test, y_test)\n",
    "       )"
   ]
  },
  {
   "cell_type": "code",
   "execution_count": 9,
   "metadata": {},
   "outputs": [
    {
     "name": "stdout",
     "output_type": "stream",
     "text": [
      "313/313 [==============================] - 6s 18ms/step - loss: 0.0613 - accuracy: 0.9805\n",
      "Test Loss: 0.061272453516721725 - Test Acc: 0.9804999828338623\n"
     ]
    }
   ],
   "source": [
    "test_loss, test_acc = CNN.evaluate(x_test, y_test)\n",
    "print(\"Test Loss: {0} - Test Acc: {1}\".format(test_loss, test_acc))"
   ]
  },
  {
   "cell_type": "markdown",
   "metadata": {},
   "source": [
    "## 4) Récupérer l'embedding intermédiaire du CAE sur le jeu de test, y appliquer du bruit pour reconstruire l'input"
   ]
  },
  {
   "cell_type": "code",
   "execution_count": 10,
   "metadata": {},
   "outputs": [
    {
     "name": "stdout",
     "output_type": "stream",
     "text": [
      "Model: \"model_2\"\n",
      "_________________________________________________________________\n",
      "Layer (type)                 Output Shape              Param #   \n",
      "=================================================================\n",
      "input_2 (InputLayer)         [(None, 4, 4, 8)]         0         \n",
      "_________________________________________________________________\n",
      "conv2d_10 (Conv2D)           (None, 4, 4, 8)           584       \n",
      "_________________________________________________________________\n",
      "up_sampling2d_3 (UpSampling2 (None, 8, 8, 8)           0         \n",
      "_________________________________________________________________\n",
      "conv2d_11 (Conv2D)           (None, 8, 8, 8)           584       \n",
      "_________________________________________________________________\n",
      "up_sampling2d_4 (UpSampling2 (None, 16, 16, 8)         0         \n",
      "_________________________________________________________________\n",
      "conv2d_12 (Conv2D)           (None, 14, 14, 32)        2336      \n",
      "_________________________________________________________________\n",
      "up_sampling2d_5 (UpSampling2 (None, 28, 28, 32)        0         \n",
      "_________________________________________________________________\n",
      "conv2d_13 (Conv2D)           (None, 28, 28, 1)         289       \n",
      "=================================================================\n",
      "Total params: 3,793\n",
      "Trainable params: 3,793\n",
      "Non-trainable params: 0\n",
      "_________________________________________________________________\n"
     ]
    }
   ],
   "source": [
    "encoder = Model(input_img, encoded)\n",
    "#encoder.layers\n",
    "encoded_input = Input(shape=(4, 4, 8))\n",
    "# at this point the representation is (4, 4, 8) i.e. 128-dimensional\n",
    "\n",
    "x = Conv2D(8, (3, 3), activation='relu', padding='same')(encoded_input)\n",
    "x = UpSampling2D((2, 2))(x)\n",
    "x = Conv2D(8, (3, 3), activation='relu', padding='same')(x)\n",
    "x = UpSampling2D((2, 2))(x)\n",
    "x = Conv2D(32, (3, 3), activation='relu')(x)\n",
    "x = UpSampling2D((2, 2))(x)\n",
    "decoded = Conv2D(1, (3, 3), activation='sigmoid', padding='same')(x)\n",
    "\n",
    "decoder = Model(encoded_input, decoded)\n",
    "decoder.compile(optimizer='adam', loss='binary_crossentropy')\n",
    "decoder.summary()"
   ]
  },
  {
   "cell_type": "markdown",
   "metadata": {},
   "source": [
    "#####  Récupération après on ajoute un bruit"
   ]
  },
  {
   "cell_type": "code",
   "execution_count": 11,
   "metadata": {},
   "outputs": [],
   "source": [
    "####### encoder = les résultats intermédiaire du CAE\n",
    "encoder_img = encoder.predict(x_test)\n",
    "##### Ajout du bruit\n",
    "noise_factor = 0.5\n",
    "\n",
    "encoder_noise = encoder_img + noise_factor * np.random.normal(loc=0.0, scale=1.0, size=encoder_img.shape) \n",
    "\n",
    "encoder_img = np.clip(encoder_img, 0., 1.)\n",
    "##### images bruitées\n",
    "img_decoder = decoder.predict(encoder_img)"
   ]
  },
  {
   "cell_type": "markdown",
   "metadata": {},
   "source": [
    "####  Fonction qui génère une image bruitée par ce mécanisme (prend une image en entrée et renvoie une image générée avec du bruit sur l’embedding intermédiaire)\n"
   ]
  },
  {
   "cell_type": "code",
   "execution_count": 12,
   "metadata": {},
   "outputs": [],
   "source": [
    "def add_noise(img):\n",
    "    \n",
    "    noise_factor = 0.5\n",
    "    img = encoder.predict(img)\n",
    "    img_noisy = img + noise_factor * np.random.normal(loc=0.1, scale=1.0, size=img.shape) \n",
    "\n",
    "    img_noisy = np.clip(img_noisy, 0., 1.)\n",
    "    return img_noisy"
   ]
  },
  {
   "cell_type": "markdown",
   "metadata": {},
   "source": [
    "### Exemple"
   ]
  },
  {
   "cell_type": "markdown",
   "metadata": {},
   "source": [
    "#### En haut exemple d'une image du codeur et en bat l'image après le bruit\n"
   ]
  },
  {
   "cell_type": "code",
   "execution_count": 13,
   "metadata": {},
   "outputs": [
    {
     "data": {
      "image/png": "[encoded data removed]",
      "text/plain": [
       "<Figure size 2880x288 with 8 Axes>"
      ]
     },
     "metadata": {
      "needs_background": "light"
     },
     "output_type": "display_data"
    }
   ],
   "source": [
    "img = encoder.predict(np.expand_dims(x_test[1,:,:,:], axis=0))\n",
    "img_noise = add_noise(np.expand_dims(x_test[1,:,:,:], axis=0))\n",
    "plt.figure(figsize=(40, 4))\n",
    "for i in range(4):\n",
    "    # display original\n",
    "    ax = plt.subplot(3, 20, i + 1)\n",
    "    plt.imshow(img[0,:,:,i].reshape(4, 4), cmap=\"binary\")\n",
    "    \n",
    "    # display reconstructed (after noise removed) image\n",
    "    ax = plt.subplot(3, 20, 40+i+ 1)\n",
    "    plt.imshow(img_noise[0,:,:,i].reshape(4, 4), cmap=\"binary\")\n",
    "plt.show()\n"
   ]
  },
  {
   "cell_type": "markdown",
   "metadata": {},
   "source": [
    "#### Reconstruction de l'input après l'ajout du bruit sur l'embedding intermédiaire du CAE sur le jeu de test"
   ]
  },
  {
   "cell_type": "code",
   "execution_count": 14,
   "metadata": {},
   "outputs": [
    {
     "data": {
      "image/png": "[encoded data removed]",
      "text/plain": [
       "<Figure size 2880x288 with 20 Axes>"
      ]
     },
     "metadata": {
      "needs_background": "light"
     },
     "output_type": "display_data"
    }
   ],
   "source": [
    "plt.figure(figsize=(40, 4))\n",
    "for i in range(10):\n",
    "    # display original\n",
    "    ax = plt.subplot(3, 20, i + 1)\n",
    "    plt.imshow(x_test[i].reshape(28, 28), cmap=\"binary\")\n",
    "    \n",
    "    # display reconstructed (after noise removed) image\n",
    "    ax = plt.subplot(3, 20, 40 +i+ 1)\n",
    "    plt.imshow(img_decoder[i].reshape(28, 28), cmap=\"binary\")\n",
    "\n",
    "plt.show()"
   ]
  },
  {
   "cell_type": "markdown",
   "metadata": {},
   "source": [
    "###### Conclusion de la question 4: \n",
    "\n",
    "###### On constate que lorsqu'on ajoute du bruit sur l'embedding intermédiairedu CAE et on reconstruit l'input, on trouve des résultats médiocres et c'est normal vu que le bruit ajouté est sur des images qui sont très petites de (4,4), c'est comme si on débruite les images de l'embedding  intermédiaire du CAE et non pas les images d'entrées."
   ]
  },
  {
   "cell_type": "markdown",
   "metadata": {},
   "source": [
    "##  5) Tester pour chaque images avec 10 perturbations dans l’embedding intermédiaire (mettre une perturbation de l'ordre de 10%) et affichez les images originelles avec la plus grande variation\n",
    "\n",
    "#### Appliquer l'autoencodeur convolutif précédent.\n",
    "#### Entraîner l'auto-encodeur à mapper des images de chiffres bruitées pour nettoyer les images de chiffres."
   ]
  },
  {
   "cell_type": "code",
   "execution_count": 15,
   "metadata": {},
   "outputs": [],
   "source": [
    "#adding some noise\n",
    "def add_noise_5(img):\n",
    "    \n",
    "    noise_factor = 0.5\n",
    "    img_noisy = img + noise_factor * np.random.normal(loc=0.1, scale=1.0, size=img.shape) \n",
    "\n",
    "    img_noisy = np.clip(img_noisy, 0., 1.)\n",
    "    return img_noisy"
   ]
  },
  {
   "cell_type": "markdown",
   "metadata": {},
   "source": [
    "##### Récupérer l'embedding intermédiaire du CAE sur le jeu de test, y appliquer du bruit pour reconstruire l'input\n"
   ]
  },
  {
   "cell_type": "code",
   "execution_count": 16,
   "metadata": {},
   "outputs": [],
   "source": [
    "x_test_noisy = np.array(list(map(add_noise_5, auto_enco_images)))\n",
    "x_train_noisy = np.array(list(map(add_noise_5, x_train)))\n",
    "\n",
    "\n",
    "x_train_noisy = np.clip(x_train_noisy, 0., 1.)\n",
    "x_test_noisy = np.clip(x_test_noisy, 0., 1.)"
   ]
  },
  {
   "cell_type": "markdown",
   "metadata": {},
   "source": [
    "##### Affichage de quelques images bruitées\n"
   ]
  },
  {
   "cell_type": "code",
   "execution_count": 17,
   "metadata": {},
   "outputs": [
    {
     "data": {
      "image/png": "[encoded data removed]",
      "text/plain": [
       "<Figure size 1440x144 with 9 Axes>"
      ]
     },
     "metadata": {
      "needs_background": "light"
     },
     "output_type": "display_data"
    }
   ],
   "source": [
    "plt.figure(figsize=(20, 2))\n",
    "for i in range(1,10):\n",
    "    ax = plt.subplot(1, 10, i)\n",
    "    plt.imshow(x_test_noisy[i].reshape(28, 28), cmap=\"binary\")\n",
    "plt.show()\n"
   ]
  },
  {
   "cell_type": "code",
   "execution_count": 18,
   "metadata": {},
   "outputs": [
    {
     "name": "stdout",
     "output_type": "stream",
     "text": [
      "Model: \"sequential_1\"\n",
      "_________________________________________________________________\n",
      "Layer (type)                 Output Shape              Param #   \n",
      "=================================================================\n",
      "conv2d_14 (Conv2D)           (None, 28, 28, 32)        320       \n",
      "_________________________________________________________________\n",
      "max_pooling2d_6 (MaxPooling2 (None, 14, 14, 32)        0         \n",
      "_________________________________________________________________\n",
      "conv2d_15 (Conv2D)           (None, 14, 14, 8)         2312      \n",
      "_________________________________________________________________\n",
      "max_pooling2d_7 (MaxPooling2 (None, 7, 7, 8)           0         \n",
      "_________________________________________________________________\n",
      "conv2d_16 (Conv2D)           (None, 7, 7, 8)           584       \n",
      "_________________________________________________________________\n",
      "max_pooling2d_8 (MaxPooling2 (None, 4, 4, 8)           0         \n",
      "_________________________________________________________________\n",
      "conv2d_17 (Conv2D)           (None, 4, 4, 8)           584       \n",
      "_________________________________________________________________\n",
      "up_sampling2d_6 (UpSampling2 (None, 8, 8, 8)           0         \n",
      "_________________________________________________________________\n",
      "conv2d_18 (Conv2D)           (None, 8, 8, 8)           584       \n",
      "_________________________________________________________________\n",
      "up_sampling2d_7 (UpSampling2 (None, 16, 16, 8)         0         \n",
      "_________________________________________________________________\n",
      "conv2d_19 (Conv2D)           (None, 14, 14, 32)        2336      \n",
      "_________________________________________________________________\n",
      "up_sampling2d_8 (UpSampling2 (None, 28, 28, 32)        0         \n",
      "_________________________________________________________________\n",
      "conv2d_20 (Conv2D)           (None, 28, 28, 1)         289       \n",
      "=================================================================\n",
      "Total params: 7,009\n",
      "Trainable params: 7,009\n",
      "Non-trainable params: 0\n",
      "_________________________________________________________________\n",
      "Epoch 1/30\n",
      "235/235 [==============================] - 182s 763ms/step - loss: 0.0641 - val_loss: 0.0295\n",
      "Epoch 2/30\n",
      "235/235 [==============================] - 175s 744ms/step - loss: 0.0376 - val_loss: 0.0226\n",
      "Epoch 3/30\n",
      "235/235 [==============================] - 184s 782ms/step - loss: 0.0320 - val_loss: 0.0199\n",
      "Epoch 4/30\n",
      "235/235 [==============================] - 259s 1s/step - loss: 0.0294 - val_loss: 0.0181\n",
      "Epoch 5/30\n",
      "235/235 [==============================] - 235s 999ms/step - loss: 0.0275 - val_loss: 0.0170\n",
      "Epoch 6/30\n",
      "235/235 [==============================] - 228s 969ms/step - loss: 0.0261 - val_loss: 0.0159\n",
      "Epoch 7/30\n",
      "235/235 [==============================] - 229s 975ms/step - loss: 0.0249 - val_loss: 0.0154\n",
      "Epoch 8/30\n",
      "235/235 [==============================] - 232s 986ms/step - loss: 0.0241 - val_loss: 0.0149\n",
      "Epoch 9/30\n",
      "235/235 [==============================] - 251s 1s/step - loss: 0.0235 - val_loss: 0.0145\n",
      "Epoch 10/30\n",
      "235/235 [==============================] - 234s 996ms/step - loss: 0.0230 - val_loss: 0.0143\n",
      "Epoch 11/30\n",
      "235/235 [==============================] - 232s 990ms/step - loss: 0.0225 - val_loss: 0.0138\n",
      "Epoch 12/30\n",
      "235/235 [==============================] - 233s 993ms/step - loss: 0.0221 - val_loss: 0.0137\n",
      "Epoch 13/30\n",
      "235/235 [==============================] - 244s 1s/step - loss: 0.0218 - val_loss: 0.0135\n",
      "Epoch 14/30\n",
      "235/235 [==============================] - 243s 1s/step - loss: 0.0213 - val_loss: 0.0133\n",
      "Epoch 15/30\n",
      "235/235 [==============================] - 231s 981ms/step - loss: 0.0212 - val_loss: 0.0131\n",
      "Epoch 16/30\n",
      "235/235 [==============================] - 236s 1s/step - loss: 0.0210 - val_loss: 0.0131\n",
      "Epoch 17/30\n",
      "235/235 [==============================] - 208s 885ms/step - loss: 0.0207 - val_loss: 0.0129\n",
      "Epoch 18/30\n",
      "235/235 [==============================] - 163s 695ms/step - loss: 0.0205 - val_loss: 0.0127\n",
      "Epoch 19/30\n",
      "235/235 [==============================] - 157s 667ms/step - loss: 0.0203 - val_loss: 0.0125\n",
      "Epoch 20/30\n",
      "235/235 [==============================] - 167s 711ms/step - loss: 0.0202 - val_loss: 0.0125\n",
      "Epoch 21/30\n",
      "235/235 [==============================] - 165s 704ms/step - loss: 0.0200 - val_loss: 0.0124\n",
      "Epoch 22/30\n",
      "235/235 [==============================] - 187s 797ms/step - loss: 0.0198 - val_loss: 0.0124\n",
      "Epoch 23/30\n",
      "235/235 [==============================] - 196s 835ms/step - loss: 0.0197 - val_loss: 0.0125\n",
      "Epoch 24/30\n",
      "235/235 [==============================] - 177s 752ms/step - loss: 0.0197 - val_loss: 0.0122\n",
      "Epoch 25/30\n",
      "235/235 [==============================] - 157s 670ms/step - loss: 0.0196 - val_loss: 0.0122\n",
      "Epoch 26/30\n",
      "235/235 [==============================] - 158s 671ms/step - loss: 0.0194 - val_loss: 0.0121\n",
      "Epoch 27/30\n",
      "235/235 [==============================] - 155s 658ms/step - loss: 0.0193 - val_loss: 0.0121\n",
      "Epoch 28/30\n",
      "235/235 [==============================] - 175s 746ms/step - loss: 0.0192 - val_loss: 0.0123\n",
      "Epoch 29/30\n",
      "235/235 [==============================] - 141s 598ms/step - loss: 0.0191 - val_loss: 0.0119\n",
      "Epoch 30/30\n",
      "235/235 [==============================] - 139s 592ms/step - loss: 0.0191 - val_loss: 0.0119\n"
     ]
    },
    {
     "data": {
      "text/plain": [
       "<tensorflow.python.keras.callbacks.History at 0x20871a35f88>"
      ]
     },
     "execution_count": 18,
     "metadata": {},
     "output_type": "execute_result"
    }
   ],
   "source": [
    "Autoencoder = Sequential()\n",
    "Autoencoder.add(Conv2D(32, (3, 3), activation='relu', padding='same', input_shape=(28, 28, 1)))\n",
    "Autoencoder.add(MaxPooling2D((2, 2), padding='same'))\n",
    "Autoencoder.add(Conv2D(8, (3, 3), activation='relu', padding='same'))\n",
    "Autoencoder.add(MaxPooling2D((2, 2), padding='same'))\n",
    "Autoencoder.add(Conv2D(8, (3, 3), activation='relu', padding='same'))\n",
    " \n",
    "\n",
    "Autoencoder.add(MaxPooling2D((2, 2), padding='same'))\n",
    " \n",
    "Autoencoder.add(Conv2D(8, (3, 3), activation='relu', padding='same'))\n",
    "Autoencoder.add(UpSampling2D((2, 2)))\n",
    "Autoencoder.add(Conv2D(8, (3, 3), activation='relu', padding='same'))\n",
    "Autoencoder.add(UpSampling2D((2, 2)))\n",
    "Autoencoder.add(Conv2D(32, (3, 3), activation='relu'))\n",
    "Autoencoder.add(UpSampling2D((2, 2)))\n",
    "Autoencoder.add(Conv2D(1, (3, 3), activation='relu', padding='same'))\n",
    "Autoencoder.compile(optimizer='adam', loss='mean_squared_error')\n",
    "\n",
    "Autoencoder.summary()\n",
    "Autoencoder.fit(x_train_noisy, x_train,\n",
    "          epochs=30,\n",
    "          batch_size=256, \n",
    "          shuffle=True, \n",
    "          validation_data=(x_test_noisy, auto_enco_images))"
   ]
  },
  {
   "cell_type": "markdown",
   "metadata": {},
   "source": [
    "#### En haut, les images bruitées, et en bas, les images reconstruits par le réseau après l'enlèvement du bruit .\n",
    "#### D'après les images on constate que l'auto-encodeur marche très bien"
   ]
  },
  {
   "cell_type": "code",
   "execution_count": 19,
   "metadata": {},
   "outputs": [
    {
     "data": {
      "image/png": "[encoded data removed]",
      "text/plain": [
       "<Figure size 2880x288 with 20 Axes>"
      ]
     },
     "metadata": {
      "needs_background": "light"
     },
     "output_type": "display_data"
    }
   ],
   "source": [
    "no_noise_img = Autoencoder.predict(x_test_noisy)\n",
    "\n",
    "plt.figure(figsize=(40, 4))\n",
    "for i in range(10):\n",
    "    # display original\n",
    "    ax = plt.subplot(3, 20, i + 1)\n",
    "    plt.imshow(x_test_noisy[i].reshape(28, 28), cmap=\"binary\")\n",
    "    \n",
    "    # display reconstructed (after noise removed) image\n",
    "    ax = plt.subplot(3, 20, 40 +i+ 1)\n",
    "    plt.imshow(no_noise_img[i].reshape(28, 28), cmap=\"binary\")\n",
    "\n",
    "plt.show()"
   ]
  },
  {
   "cell_type": "markdown",
   "metadata": {},
   "source": [
    "### Conclusion:\n",
    "###### On déduit que lorsqu'on entre les images bruitées à l'autoencoder pour s'entrainer, on trouve de bonne résultats comme illustrer dans la figure au-dessus contrairement à la  question précédente."
   ]
  },
  {
   "cell_type": "code",
   "execution_count": null,
   "metadata": {},
   "outputs": [],
   "source": []
  }
 ],
 "metadata": {
  "kernelspec": {
   "display_name": "Python 3",
   "language": "python",
   "name": "python3"
  },
  "language_info": {
   "codemirror_mode": {
    "name": "ipython",
    "version": 3
   },
   "file_extension": ".py",
   "mimetype": "text/x-python",
   "name": "python",
   "nbconvert_exporter": "python",
   "pygments_lexer": "ipython3",
   "version": "3.7.4"
  }
 },
 "nbformat": 4,
 "nbformat_minor": 2
}
